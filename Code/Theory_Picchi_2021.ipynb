{
 "cells": [
  {
   "cell_type": "markdown",
   "metadata": {},
   "source": [
    "# Theory Picchi 2021\n",
    "\n",
    "In this notebook, I reproduce the Theory in *Motion of a confined bubble in a shear-thinning liquid*, by D. Picchi, published in JFM in 2021. \n",
    "\n"
   ]
  }
 ],
 "metadata": {
  "language_info": {
   "name": "python"
  }
 },
 "nbformat": 4,
 "nbformat_minor": 2
}
