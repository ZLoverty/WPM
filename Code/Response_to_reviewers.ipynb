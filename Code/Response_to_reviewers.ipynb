{
 "cells": [
  {
   "cell_type": "markdown",
   "metadata": {},
   "source": [
    "# Response to reviewers\n",
    "\n",
    "This notebook makes figures to answer reviewers questions."
   ]
  },
  {
   "cell_type": "markdown",
   "metadata": {},
   "source": [
    "## 0 Packages"
   ]
  },
  {
   "cell_type": "code",
   "execution_count": 1,
   "metadata": {},
   "outputs": [],
   "source": [
    "import os\n",
    "import matplotlib.pyplot as plt\n",
    "import pandas as pd\n",
    "import numpy as np\n",
    "import matplotlib\n",
    "matplotlib.rcParams[\"font.family\"] = \"STIXGeneral\"\n",
    "matplotlib.rcParams['mathtext.fontset'] = 'stix'\n",
    "matplotlib.rcParams[\"xtick.direction\"] = \"in\"\n",
    "matplotlib.rcParams[\"ytick.direction\"] = \"in\"\n",
    "plt.rcParams['xtick.major.size'] = 2  # Length of major ticks\n",
    "plt.rcParams['ytick.major.size'] = 2  # Length of major ticks\n",
    "plt.rcParams['xtick.minor.size'] = 1  # Length of minor ticks\n",
    "plt.rcParams['ytick.minor.size'] = 1  # Length of minor ticks\n",
    "import sys\n",
    "sys.path.insert(0, r\"C:\\Users\\zl948\\Documents\\GitHub\\mylib\\src\")\n",
    "from myimagelib import readdata, bestcolor, xy_bin\n",
    "from scipy.signal import butter, filtfilt, argrelextrema, argrelmax, find_peaks\n",
    "from IPython.display import clear_output\n",
    "\n",
    "def butterworth_filter(y, cutoff):\n",
    "\n",
    "    fs =  len(y) # Sampling frequency\n",
    "\n",
    "    order = 3  # Order of the filter\n",
    "\n",
    "    nyquist = 0.5 * fs  # Nyquist frequency\n",
    "    normal_cutoff = cutoff / nyquist  # Normalized cutoff frequency\n",
    "\n",
    "    # Butterworth filter design\n",
    "    b, a = butter(order, normal_cutoff, btype='low', analog=False)\n",
    "\n",
    "    # Step 3: Apply the Butterworth filter to the signal\n",
    "    yf = filtfilt(b, a, y)\n",
    "\n",
    "    return yf"
   ]
  },
  {
   "cell_type": "code",
   "execution_count": 2,
   "metadata": {},
   "outputs": [],
   "source": [
    "base_folder = \"/Users/zhoulin/Google Drive\""
   ]
  },
  {
   "cell_type": "markdown",
   "metadata": {},
   "source": [
    "## 1 Compare glycerol-water surface with beet juice surface"
   ]
  },
  {
   "cell_type": "code",
   "execution_count": null,
   "metadata": {},
   "outputs": [
    {
     "name": "stdout",
     "output_type": "stream",
     "text": []
    }
   ],
   "source": [
    "folder = os.path.join(base_folder, \"08212024\", \"surface_profile\")\n",
    "name = \"beetjuice_3_0.305\"\n",
    "df = pd.read_csv(os.path.join(folder, name+\".csv\")).set_index(\"x\")\n",
    "dimple = pd.read_csv(os.path.join(folder, \"dimple_detection\", name+\".csv\"))\n",
    "\n",
    "fig, ax = plt.subplots(1, 2, figsize=(7, 3), dpi=300, sharey=True)\n",
    "down_sample = 2\n",
    "cmap = plt.get_cmap(\"viridis\")\n",
    "tmax = float(df.columns[-1])\n",
    "n_curves = df.shape[1]\n",
    "for i in range(2, n_curves-1, down_sample):\n",
    "    # read surface profile data for smoothing purpose\n",
    "    x, y = df.index, df.iloc[:, i].values\n",
    "    ax[0].plot(x, y, color=cmap(i/n_curves), lw=2)\n",
    "    min_ind = dimple.loc[i//2, \"minima_index\"]\n",
    "    max_ind = dimple.loc[i//2, \"maxima_index\"]\n",
    "    if np.isnan(min_ind) or np.isnan(max_ind):\n",
    "        continue\n",
    "    # ax.scatter(x[int(min_ind)], dimple.loc[i//2, \"minima\"], color=\"blue\", s=5, zorder=10)\n",
    "    # ax.scatter(x[int(max_ind)], dimple.loc[i//2, \"maxima\"], color=\"red\", s=5, zorder=10)\n",
    "\n",
    "ax[0].set_xlim([0, 16])\n",
    "ax[0].set_ylim([0, 0.4])\n",
    "ax[0].set_xlabel(\"Distance, $x$ (mm)\")\n",
    "ax[0].set_ylabel(\"Surface height, $h$ (mm)\")\n",
    "ax[0].set_title(\"Beet juice\")\n",
    "folder = os.path.join(base_folder, \"11122024\", \"surface_profile\")\n",
    "name = \"gw60-15_0.253\"\n",
    "df = pd.read_csv(os.path.join(folder, name+\".csv\")).set_index(\"x\")\n",
    "tmax = float(df.columns[-1])\n",
    "n_curves = df.shape[1]\n",
    "for i in range(2, n_curves-1, down_sample):\n",
    "    # read surface profile data for smoothing purpose\n",
    "    x, y = df.index, df.iloc[:, i].values\n",
    "    ax[1].plot(x, y, color=cmap(i/n_curves), lw=2)\n",
    "    if np.isnan(min_ind) or np.isnan(max_ind):\n",
    "        continue\n",
    "    # ax.scatter(x[int(min_ind)], dimple.loc[i//2, \"minima\"], color=\"blue\", s=5, zorder=10)\n",
    "    # ax.scatter(x[int(max_ind)], dimple.loc[i//2, \"maxima\"], color=\"red\", s=5, zorder=10)\n",
    "\n",
    "ax[1].set_xlim([0, 20])\n",
    "ax[1].set_ylim([0, 0.4])\n",
    "ax[1].set_xlabel(\"Distance, $x$ (mm)\")\n",
    "# ax[1].set_ylabel(\"Surface height, $h$ (mm)\")\n",
    "ax[1].set_title(\"60% glycerol\")\n",
    "\n",
    "# add a colorbar\n",
    "# sm = plt.cm.ScalarMappable(cmap=cmap, norm=plt.Normalize(vmin=0, vmax=100))\n",
    "# plt.colorbar(sm, ax=ax, label=\"Time (s)\")\n",
    "plt.tight_layout()"
   ]
  },
  {
   "cell_type": "markdown",
   "metadata": {},
   "source": [
    "## 2 Contact line dynamics\n",
    "\n",
    "To address the question regarding Tanner's law, we look in our data how the contact line spread on the vertical wall of the beet slice. Two types of measurements have been done: extrapolation and direct imaging. Here, I show the results from both. \n",
    "\n",
    "We can also show results from simulation. "
   ]
  },
  {
   "cell_type": "code",
   "execution_count": null,
   "metadata": {},
   "outputs": [],
   "source": [
    "fps = 30\n",
    "mpp = 6 / 1080\n",
    "h0 = 1000"
   ]
  },
  {
   "cell_type": "markdown",
   "metadata": {},
   "source": [
    "### 2.1 Direct imaging"
   ]
  },
  {
   "cell_type": "code",
   "execution_count": null,
   "metadata": {},
   "outputs": [],
   "source": [
    "folder = r\"G:\\My Drive\\Research projects\\WPM\\Data\\11152024\\Contact_line_velocity_analysis\\tracking\"\n",
    "l = readdata(folder, \"csv\")"
   ]
  },
  {
   "cell_type": "code",
   "execution_count": null,
   "metadata": {},
   "outputs": [],
   "source": [
    "df = pd.read_csv(l.Dir[0], usecols=[\"Y\"], encoding=\"latin1\")"
   ]
  },
  {
   "cell_type": "code",
   "execution_count": null,
   "metadata": {},
   "outputs": [
    {
     "name": "stdout",
     "output_type": "stream",
     "text": []
    },
    {
     "name": "stdout",
     "output_type": "stream",
     "text": []
    }
   ],
   "source": [
    "t = df.index / fps\n",
    "h = (h0 - df.Y) * mpp\n",
    "plt.plot(t, h)\n",
    "# plt.xlim([0, 2])\n",
    "# plt.ylim([0, 5])\n",
    "# plt.loglog()\n",
    "plt.xlabel(\"Time (s)\")\n",
    "plt.ylabel(\"Height (mm)\")"
   ]
  },
  {
   "cell_type": "markdown",
   "metadata": {},
   "source": [
    "### 2.2 Extrapolation\n",
    "\n",
    "The data from extrapolation is noisier. A key issue is that the contact line rises rapidly (within a few seconds or even shorter, depending on the film thickness). So, in most cases, the extrapolation does not really capture the \"rising\" part. "
   ]
  },
  {
   "cell_type": "code",
   "execution_count": null,
   "metadata": {},
   "outputs": [],
   "source": [
    "folder = r\"G:\\My Drive\\Research projects\\WPM\\Data\\11122024\\surface_profile\"\n",
    "l = readdata(folder, \"csv\")"
   ]
  },
  {
   "cell_type": "code",
   "execution_count": null,
   "metadata": {},
   "outputs": [
    {
     "name": "stdout",
     "output_type": "stream",
     "text": []
    },
    {
     "name": "stdout",
     "output_type": "stream",
     "text": []
    }
   ],
   "source": [
    "for i in range(0, 10, 3):\n",
    "    df = pd.read_csv(l.Dir[i])\n",
    "    contact_line_height = df.set_index(\"x\").T.iloc[:, 0]\n",
    "    plt.plot(contact_line_height.index.astype(float), contact_line_height.values, label=l.Name[i])\n",
    "# plt.ylim([0, contact_line_height.values.max()])\n",
    "plt.xlabel(\"Time (s)\")\n",
    "plt.ylabel(\"Height (mm)\")\n",
    "plt.legend()"
   ]
  },
  {
   "cell_type": "markdown",
   "metadata": {},
   "source": [
    "### 2.3 Simulation"
   ]
  },
  {
   "cell_type": "code",
   "execution_count": null,
   "metadata": {},
   "outputs": [],
   "source": [
    "folder = r\"G:\\My Drive\\Research projects\\WPM\\Data\\Simulation\\L24\"\n",
    "l = readdata(folder, \"csv\")"
   ]
  },
  {
   "cell_type": "code",
   "execution_count": null,
   "metadata": {},
   "outputs": [
    {
     "name": "stdout",
     "output_type": "stream",
     "text": []
    },
    {
     "name": "stdout",
     "output_type": "stream",
     "text": []
    }
   ],
   "source": [
    "for i in range(20, 30, 5):\n",
    "    df = pd.read_csv(l.Dir[i])\n",
    "    contact_line_height = df.set_index(\"x\").T.iloc[:, 0]\n",
    "    plt.plot(contact_line_height.index.astype(float), contact_line_height.values)\n",
    "# plt.ylim([0, contact_line_height.values.max()])\n",
    "plt.xlabel(\"Time (s)\")\n",
    "plt.ylabel(\"Height (mm)\")\n",
    "plt.xlim([0, 100])"
   ]
  },
  {
   "cell_type": "markdown",
   "metadata": {},
   "source": [
    "### 2.4 Plot together"
   ]
  },
  {
   "cell_type": "code",
   "execution_count": null,
   "metadata": {},
   "outputs": [
    {
     "name": "stdout",
     "output_type": "stream",
     "text": []
    },
    {
     "name": "stdout",
     "output_type": "stream",
     "text": []
    }
   ],
   "source": [
    "fig, ax = plt.subplots(figsize=(6, 4), dpi=300)\n",
    "\n",
    "# extrapolation\n",
    "# thick film, h0 = 0.4 mm\n",
    "fileDir = r\"G:\\My Drive\\Research projects\\WPM\\Data\\11122024\\surface_profile\\beet-12_0.366.csv\"\n",
    "df = pd.read_csv(fileDir)\n",
    "contact_line_height = df.set_index(\"x\").T.iloc[::2, 0]\n",
    "t, h = contact_line_height.index.astype(float), contact_line_height.values\n",
    "ax.scatter(t, h, color=bestcolor(0), label=\"Experiment, $h_0=0.4$ mm\")\n",
    "\n",
    "# thin film, h0 = 0.2 mm\n",
    "fileDir = r\"G:\\My Drive\\Research projects\\WPM\\Data\\11122024\\surface_profile\\beet-10_0.277.csv\"\n",
    "df = pd.read_csv(fileDir)\n",
    "contact_line_height = df.set_index(\"x\").T.iloc[::2, 0]\n",
    "t, h = contact_line_height.index.astype(float), contact_line_height.values\n",
    "ax.scatter(t, h, color=bestcolor(1), label=\"Experiment, $h_0=0.2$ mm\")\n",
    "# ax.loglog()\n",
    "\n",
    "# simulation\n",
    "folder = r\"G:\\My Drive\\Research projects\\WPM\\Data\\Simulation\\L24\"\n",
    "# thick film, h0 = 0.4 mm\n",
    "df = pd.read_csv(os.path.join(folder, \"mu_1.00e-02_sigma_4.20e-02_h0_4.02e-04_L_2.40e-02.csv\"))\n",
    "contact_line_height = df.set_index(\"x\").T.iloc[:, 0]\n",
    "t, h = contact_line_height.index.astype(float), contact_line_height.values\n",
    "ax.plot(t, h, color=bestcolor(0), label=\"Simulation, $h_0=0.4$ mm\")\n",
    "\n",
    "# thin film, h0 = 0.2 mm\n",
    "df = pd.read_csv(os.path.join(folder, \"mu_1.00e-02_sigma_4.20e-02_h0_2.20e-04_L_2.40e-02.csv\"))\n",
    "contact_line_height = df.set_index(\"x\").T.iloc[:, 0]\n",
    "t, h = contact_line_height.index.astype(float), contact_line_height.values\n",
    "ax.plot(t, h, color=bestcolor(1), label=\"Simulation, $h_0=0.2$ mm\")\n",
    "\n",
    "ax.set_xlim([0, 100])\n",
    "plt.xlabel(\"Time, $t$ (s)\")\n",
    "plt.ylabel(\"Contact line height, $h_\\mathrm{cl}$ (mm)\")\n",
    "ax.legend(frameon=False)"
   ]
  },
  {
   "cell_type": "markdown",
   "metadata": {},
   "source": [
    "## 3 Lubrication time scale\n",
    "\n",
    "### 3.1 The idea behind the original Eq.2\n",
    "\n",
    "The reviewer correctly pointed out the time scale arising from the lubrication equation as \n",
    "\n",
    "$$\n",
    "t_\\mathrm{lub} \\sim \\frac{\\mu L}{\\sigma} \\left( \\frac{L}{h} \\right)^3\n",
    "$$\n",
    "\n",
    "For a typical set of parameters $\\mu=0.01\\;\\mathrm{Pa\\cdot s}$, $L=24\\;\\mathrm{mm}$, $\\sigma=0.042\\;\\mathrm{N/m}$, $h_0=0.3\\;\\mathrm{mm}$, we can estimate the time scale $t_\\mathrm{lub} \\approx 3000\\;\\mathrm{s}$.\n",
    "\n",
    "However, both our simulation and experiment suggest that the height ratio between dimple and apex reach 0.5 around 30 seconds after the solid-liquid contact (Fig. 5c). This time scale is 100 times faster than $t_\\mathrm{lub}$. If we consider that the film thickness $h$ gets smaller over time, the difference can be even larger. Clearly, $t_\\mathrm{lub}$ is not the time scale $\\tau$ that gives rise to the sufficient color contrast for the dimple to be observed. \n",
    "\n",
    "Why are $t_\\mathrm{lub}$ and $\\tau$ so different? We believe the difference arises from the definition of the \"final state\". When estimating $t_\\mathrm{lub}$, we define the final state as when $p \\sim \\sigma h / L^2$. At this time, the spatial variation in the curvature is very small, and the driving force arises from surface tension is negligible. However, when we define the \"final state\" as when the height ratio is larger than 0.5, it is often the early stage of the surface tension smoothing process. See the illustration below. "
   ]
  },
  {
   "cell_type": "markdown",
   "metadata": {},
   "source": [
    "We realized in our experiment that, at $t_\\mathrm{dimple}$, in thin films ($<0.3\\;\\mathrm{mm}$), the curvature at the dimple was still quite localized, instead of being spreaded to the whole length of the film. So, we were looking for an (larger) alternative scaling for pressure $p\\sim \\sigma h/L^2$ that captured the dimple time. Interestingly, we observed that at early times, for thin films, $p$ shows a correlation with the dimple height $h_\\mathrm{min}$ (shown in Fig.A3). Therefore, we use $p\\sim \\sigma/h$ in the scaling analysis. This resulted in the difference between the scaling in Eq.2 and the $t_\\mathrm{lub}$. By considering an $h=0.03\\;\\mathrm{mm}$ smaller than $h_0$, and the prefactor 3, we can estimate the dimple time again using \n",
    "\n",
    "$$\n",
    "\\tau = \\frac{3\\mu L^2}{\\sigma h} \\approx 13.7\\;\\mathrm{s}.\n",
    "$$\n",
    "\n",
    "This is reasonably close to the $t_\\mathrm{dimple}$ ($\\sim 30\\;\\mathrm{s}$) we observed in experiment. \n",
    "\n",
    "We note that the pressure scaling $p\\sim \\sigma/h$ is by no means a perfect choice. However, it bears an important qualitative observation from experiment: the pressure at play at $t\\lt t_\\mathrm{dimple}$ is much larger than $\\sigma h/L^2$."
   ]
  },
  {
   "cell_type": "markdown",
   "metadata": {},
   "source": [
    "### 3.2 Examine pressure\n",
    "\n",
    "We realize that gravity also plays an important role in the dimple smoothing process. Most notably, it defines a more relavent length scale, at which the surface tension effect becomes secondary. "
   ]
  },
  {
   "cell_type": "code",
   "execution_count": null,
   "metadata": {},
   "outputs": [],
   "source": [
    "folder = os.path.join(base_folder, \"Research projects\", \"WPM\", \"Data\", \"Simulation\", \"parameters\", \"length\")\n",
    "filename = \"mu_1.00e-02_sigma_4.20e-02_h0_3.00e-04_L_1.00e-02\"\n",
    "df = pd.read_csv(os.path.join(folder, filename+\".csv\")).set_index(\"x\")"
   ]
  },
  {
   "cell_type": "code",
   "execution_count": null,
   "metadata": {},
   "outputs": [],
   "source": [
    "from scipy.sparse import diags, kron, identity\n",
    "global Dx, D2x, sigma, g, mu, rho"
   ]
  },
  {
   "cell_type": "code",
   "execution_count": null,
   "metadata": {},
   "outputs": [],
   "source": [
    "rho = 1e3\n",
    "sigma = 42e-3\n",
    "g = 9.81\n",
    "mu = 0.01\n",
    "N = df.shape[0]\n",
    "dx = df.index[1] - df.index[0]\n",
    "Dx = diags([-1, 1], [-1, 1], shape=(N, N))\n",
    "Dx = Dx.toarray()\n",
    "Dx[0, :3] = [-3, 4, -1]\n",
    "Dx[-1, -3:] = [1, -4, 3]\n",
    "Dx = Dx / (2*dx)\n",
    "D2x = diags([1, -2, 1], [-1, 0, 1], shape=(N, N))\n",
    "D2x = D2x.toarray()\n",
    "D2x[0, :4] = [2, -5, 4, -1]\n",
    "D2x[-1, -4:] = [-1, 4, -5, 2]\n",
    "D2x = D2x / (dx)**2"
   ]
  },
  {
   "cell_type": "code",
   "execution_count": null,
   "metadata": {},
   "outputs": [],
   "source": [
    "def YL_equation(h):\n",
    "    p = -sigma * (1 + (Dx @ h)**2)**(-3/2) * (D2x @ h)*1e3 + rho * g * h * 1e-3\n",
    "    # p[0] = p[1]\n",
    "    # p[-1] = p[-2]\n",
    "    return p"
   ]
  },
  {
   "cell_type": "code",
   "execution_count": null,
   "metadata": {},
   "outputs": [
    {
     "name": "stdout",
     "output_type": "stream",
     "text": []
    },
    {
     "name": "stdout",
     "output_type": "stream",
     "text": []
    }
   ],
   "source": [
    "h = df.iloc[:, 1000].values\n",
    "fig, ax = plt.subplots(figsize=(3.5, 3), dpi=300)\n",
    "ax.plot(df.index, h, color=bestcolor(0))\n",
    "ax.set_xlim(0, df.index.max())\n",
    "ax.set_xlabel(\"Distance, $x$ (mm)\")\n",
    "ax.set_ylabel(\"Height, $h$ (mm)\")\n",
    "ax2 = ax.twinx()\n",
    "p = YL_equation(h)\n",
    "ax2.plot(df.index, p, color=bestcolor(1))\n",
    "ax2.set_ylabel(\"Pressure, $p$ (Pa)\")\n",
    "\n",
    "# Make axis the same color as plot\n",
    "ax.spines['left'].set_color(bestcolor(0))\n",
    "ax.yaxis.label.set_color(bestcolor(0))\n",
    "ax.tick_params(axis='y', colors=bestcolor(0))\n",
    "ax.set_ylim(0, 1)\n",
    "ax2.spines['right'].set_color(bestcolor(1))\n",
    "ax2.yaxis.label.set_color(bestcolor(1))\n",
    "ax2.tick_params(axis='y', colors=bestcolor(1))\n",
    "ax2.set_ylim(-25, 25)\n",
    "ax.set_title(\"$t=100\\;\\mathrm{s}$\")"
   ]
  },
  {
   "cell_type": "code",
   "execution_count": null,
   "metadata": {},
   "outputs": [],
   "source": [
    "# generate an animation\n",
    "save_folder = r\"C:\\Users\\zl948\\Documents\\WPM_simulation\\ultrashort_film_hp\"\n",
    "os.makedirs(save_folder, exist_ok=True)\n",
    "for i in range(100):\n",
    "    h = df.iloc[:, i*10].values\n",
    "    fig, ax = plt.subplots(figsize=(3.5, 3), dpi=300)\n",
    "    ax.plot(df.index, h, color=bestcolor(0))\n",
    "    ax.set_xlim(0, df.index.max())\n",
    "    ax.set_xlabel(\"Distance, $x$ (mm)\")\n",
    "    ax.set_ylabel(\"Height, $h$ (mm)\")\n",
    "    ax2 = ax.twinx()\n",
    "    p = YL_equation(h)\n",
    "    ax2.plot(df.index, p, color=bestcolor(1))\n",
    "    ax2.set_ylabel(\"Pressure, $p$ (Pa)\")\n",
    "\n",
    "    # Make axis the same color as plot\n",
    "    ax.spines['left'].set_color(bestcolor(0))\n",
    "    ax.yaxis.label.set_color(bestcolor(0))\n",
    "    ax.tick_params(axis='y', colors=bestcolor(0))\n",
    "    ax.set_ylim(0, 1)\n",
    "    ax2.spines['right'].set_color(bestcolor(1))\n",
    "    ax2.yaxis.label.set_color(bestcolor(1))\n",
    "    ax2.tick_params(axis='y', colors=bestcolor(1))\n",
    "    ax2.set_ylim(-20, 20)\n",
    "    ax.set_title(f\"{i:.0f} s\")\n",
    "    fig.savefig(os.path.join(save_folder, f\"{i:04d}.png\"), dpi=300, bbox_inches=\"tight\")\n",
    "    plt.close()"
   ]
  },
  {
   "cell_type": "markdown",
   "metadata": {},
   "source": [
    "As evidenced above, at the beginning of the solid-liquid contact, the dimple has a much larger pressure than the bulk liquid film. \n",
    "\n",
    "At 1 s, the pressure at the dimple is around -23 Pa, while the pressure in the bulk film is around 2 Pa. We can compare this with the scalings of the capillary pressure from the Young-Laplace equation:\n",
    "\n",
    "$$\n",
    "p \\sim \\frac{\\sigma h_0}{L^2} = 0.042 \\times \\frac{2.32\\times 10^{-4}}{(24\\times 10^{-3})^2} \\approx 0.017\\;\\mathrm{Pa}.\n",
    "$$\n",
    "\n",
    "Clearly, this scaling underestimate the pressure in the liquid film, which is the driving force that smooths the dimple out. \n",
    "\n",
    "Below, we plot the temporal evolution of the pressure at the dimple and in the bulk film."
   ]
  },
  {
   "cell_type": "code",
   "execution_count": null,
   "metadata": {},
   "outputs": [],
   "source": []
  },
  {
   "cell_type": "code",
   "execution_count": null,
   "metadata": {},
   "outputs": [],
   "source": [
    "rho = 1e3\n",
    "sigma = 42e-3\n",
    "g = 9.81\n",
    "mu = 0.01\n",
    "N = df.shape[0]\n",
    "dx = df.index[1] - df.index[0]\n",
    "Dx = diags([-1, 1], [-1, 1], shape=(N, N))\n",
    "Dx = Dx.toarray()\n",
    "Dx[0, :3] = [-3, 4, -1]\n",
    "Dx[-1, -3:] = [1, -4, 3]\n",
    "Dx = Dx / (2*dx)\n",
    "D2x = diags([1, -2, 1], [-1, 0, 1], shape=(N, N))\n",
    "D2x = D2x.toarray()\n",
    "D2x[0, :4] = [2, -5, 4, -1]\n",
    "D2x[-1, -4:] = [-1, 4, -5, 2]\n",
    "D2x = D2x / (dx)**2"
   ]
  },
  {
   "cell_type": "code",
   "execution_count": null,
   "metadata": {},
   "outputs": [
    {
     "name": "stdout",
     "output_type": "stream",
     "text": []
    },
    {
     "name": "stdout",
     "output_type": "stream",
     "text": []
    }
   ],
   "source": [
    "plt.plot(p)"
   ]
  },
  {
   "cell_type": "code",
   "execution_count": null,
   "metadata": {},
   "outputs": [
    {
     "name": "stdout",
     "output_type": "stream",
     "text": []
    },
    {
     "name": "stdout",
     "output_type": "stream",
     "text": []
    }
   ],
   "source": [
    "fig, ax = plt.subplots(figsize=(3.5, 3), dpi=300, sharey=True, sharex=True, gridspec_kw={'wspace': 0.1})\n",
    "p_dimple = []\n",
    "p_bulk = []\n",
    "p_dimple_g = []\n",
    "p_bulk_g = []\n",
    "for i in range(df.shape[1]):\n",
    "    h = df.iloc[:, i].values\n",
    "    p = YL_equation(h)\n",
    "    min_index = np.argmin(h[:30])\n",
    "    p_dimple_g.append(p[min_index])\n",
    "    p_bulk_g.append(p[200:400].mean())\n",
    "t = df.T.index.astype(float)\n",
    "ax.plot(t, (np.array(p_dimple_g)), label=\"Dimple pressure\")\n",
    "ax.plot(t, p_bulk_g, label=\"Bulk pressure\")\n",
    "ax.plot([0, 200], [0.017, 0.017], \"--\", color=\"gray\", label=\"$\\sigma h_0/L^2$\")\n",
    "ax.set_ylabel(\"Pressure (Pa)\")\n",
    "ax.set_xlabel(\"Time (s)\")\n",
    "ax.legend(frameon=False, )\n",
    "# ax.loglog()"
   ]
  },
  {
   "cell_type": "markdown",
   "metadata": {},
   "source": [
    "### 3.3 Dimple curvature time scale\n",
    "\n",
    "We can define dimple time scale based on a threshold curvature. Let's first examine the curvature evolution."
   ]
  },
  {
   "cell_type": "code",
   "execution_count": null,
   "metadata": {},
   "outputs": [],
   "source": [
    "folder = os.path.join(base_folder, \"Research projects\", \"WPM\", \"Data\", \"Simulation\", \"parameters\", \"length\", \"dimple_detection\")"
   ]
  },
  {
   "cell_type": "markdown",
   "metadata": {},
   "source": [
    "#### 3.3.1 Film length dependence\n",
    "\n",
    "The data is a dict of \"t\", \"h\" and \"curvature\". \"t\" is 1D array of time. \"L\" is 1D array of film length. \"curvature\" is a 2D array, each row corresponds to an element in \"h\"."
   ]
  },
  {
   "cell_type": "code",
   "execution_count": null,
   "metadata": {},
   "outputs": [],
   "source": [
    "l = readdata(folder, \"csv\")\n",
    "df = pd.read_csv(l.Dir[1])\n",
    "curvature_data = {}\n",
    "curvature_data[\"t\"] = df[\"t\"].values\n",
    "h_list = []\n",
    "curvature_list = []\n",
    "for num, i in l.iterrows():\n",
    "    if i.Name == \"dimple_time\":\n",
    "        continue\n",
    "    df = pd.read_csv(i.Dir)\n",
    "    nameparts = i.Name.split(\"_\")\n",
    "    h = float(nameparts[7])\n",
    "    h_list.append(h)\n",
    "    curvature = df[\"curvature_minima\"].values\n",
    "    curvature_list.append(curvature)\n",
    "curvature_data[\"h\"] = np.array(h_list)\n",
    "curvature_data[\"curvature\"] = np.stack(curvature_list, axis=0)"
   ]
  },
  {
   "cell_type": "code",
   "execution_count": null,
   "metadata": {},
   "outputs": [
    {
     "name": "stdout",
     "output_type": "stream",
     "text": []
    },
    {
     "name": "stdout",
     "output_type": "stream",
     "text": []
    }
   ],
   "source": [
    "thres = 0.01 # threshold for curvature\n",
    "######################################\n",
    "t_list = []\n",
    "fig, ax = plt.subplots(1, 2, figsize=(7, 3), dpi=300, gridspec_kw={'wspace': 0.4})\n",
    "cmap = plt.get_cmap(\"viridis\")\n",
    "# color the curves by h\n",
    "hmin, hmax = curvature_data[\"h\"].min(), curvature_data[\"h\"].max()\n",
    "norm = matplotlib.colors.Normalize(vmin=hmin, vmax=hmax)\n",
    "sm = plt.cm.ScalarMappable(cmap=cmap, norm=norm)\n",
    "for h, curvature in zip(curvature_data[\"h\"], curvature_data[\"curvature\"]):\n",
    "    x, y = xy_bin(curvature_data[\"t\"], curvature, mode=\"lin\")\n",
    "    color = cmap((h-hmin)/(hmax-hmin))\n",
    "    ax[0].plot(x, y, color=color, lw=1)\n",
    "    t_dimple = x[np.argmin(np.abs(y-thres))]\n",
    "    t_list.append(t_dimple)\n",
    "plt.colorbar(sm, ax=ax[0], label=\"Film length, $L$ (mm)\")\n",
    "ax[0].plot([0, 200], [thres, thres], \"--\", color=\"gray\")\n",
    "ax[0].set_xlabel(\"Time (s)\")\n",
    "ax[0].set_ylabel(\"Dimple curvature, $\\\\kappa$ (m$^{-1}$)\")\n",
    "ax[0].set_xlim(0, 200)\n",
    "ax[0].set_ylim(0, .1)\n",
    "ax[1].plot(curvature_data[\"h\"], t_list, \"o\")\n",
    "ax[1].set_xlabel(\"Film length, $L$ (mm)\")\n",
    "ax[1].set_ylabel(\"Dimple time curvature, $t_\\mathrm{curv}$ (s)\")\n",
    "ax[1].set_xlim([0, .1])\n",
    "ax[1].set_ylim([0, 200])"
   ]
  },
  {
   "cell_type": "code",
   "execution_count": null,
   "metadata": {},
   "outputs": [
    {
     "name": "stdout",
     "output_type": "stream",
     "text": []
    },
    {
     "name": "stdout",
     "output_type": "stream",
     "text": []
    }
   ],
   "source": [
    "tdata = pd.DataFrame({\"h\":curvature_data[\"h\"], \"t\": t_list})\n",
    "tdata = tdata.loc[tdata.h > 0.02]\n",
    "fig, ax = plt.subplots(figsize=(1.5, 1.5), dpi=300)\n",
    "ax.plot(tdata.h, tdata.t, \"o\", color=bestcolor(0))\n",
    "# remove tick labels\n",
    "ax.loglog()\n",
    "x = np.linspace(0.03, 0.06)\n",
    "y = 3e2 * x**.5\n",
    "plt.plot(x, y, \"--\", color=\"black\")"
   ]
  },
  {
   "cell_type": "markdown",
   "metadata": {},
   "source": [
    "#### 3.3.2 Initial thickness dependence"
   ]
  },
  {
   "cell_type": "code",
   "execution_count": null,
   "metadata": {},
   "outputs": [],
   "source": [
    "folder = os.path.join(base_folder, \"Research projects\", \"WPM\", \"Data\", \"Simulation\", \"parameters\", \"h0_more\", \"dimple_detection\")"
   ]
  },
  {
   "cell_type": "code",
   "execution_count": null,
   "metadata": {},
   "outputs": [],
   "source": [
    "l = readdata(folder, \"csv\")\n",
    "df = pd.read_csv(l.Dir[1])\n",
    "curvature_data = {}\n",
    "curvature_data[\"t\"] = df[\"t\"].values\n",
    "h_list = []\n",
    "curvature_list = []\n",
    "for num, i in l.iterrows():\n",
    "    if i.Name == \"dimple_time\":\n",
    "        continue\n",
    "    df = pd.read_csv(i.Dir)\n",
    "    nameparts = i.Name.split(\"_\")\n",
    "    h = float(nameparts[5])\n",
    "    curvature = df[\"curvature_minima\"].values\n",
    "    if len(curvature) == 2000:\n",
    "        h_list.append(h)\n",
    "        curvature_list.append(curvature)\n",
    "curvature_data[\"h\"] = np.array(h_list)\n",
    "curvature_data[\"curvature\"] = np.stack(curvature_list, axis=0)"
   ]
  },
  {
   "cell_type": "code",
   "execution_count": null,
   "metadata": {},
   "outputs": [
    {
     "name": "stdout",
     "output_type": "stream",
     "text": []
    }
   ],
   "source": [
    "curvature_data[\"t\"]"
   ]
  },
  {
   "cell_type": "code",
   "execution_count": null,
   "metadata": {},
   "outputs": [
    {
     "name": "stdout",
     "output_type": "stream",
     "text": []
    },
    {
     "name": "stdout",
     "output_type": "stream",
     "text": []
    }
   ],
   "source": [
    "thres = 0.01 # threshold for curvature\n",
    "######################################\n",
    "t_list = []\n",
    "fig, ax = plt.subplots(1, 2, figsize=(7, 3), dpi=300, gridspec_kw={'wspace': 0.4})\n",
    "cmap = plt.get_cmap(\"viridis\")\n",
    "# color the curves by h\n",
    "hmin, hmax = curvature_data[\"h\"].min()*1e3, curvature_data[\"h\"].max()*1e3\n",
    "norm = matplotlib.colors.Normalize(vmin=hmin, vmax=hmax)\n",
    "sm = plt.cm.ScalarMappable(cmap=cmap, norm=norm)\n",
    "for h, curvature in zip(curvature_data[\"h\"], curvature_data[\"curvature\"]):\n",
    "    h *= 1e3\n",
    "    x, y = xy_bin(curvature_data[\"t\"], curvature, mode=\"lin\")\n",
    "    color = cmap((h-hmin)/(hmax-hmin))\n",
    "    ax[0].plot(x, y, color=color, lw=1)\n",
    "    t_dimple = x[np.argmin(np.abs(y-thres))]\n",
    "    t_list.append(t_dimple)\n",
    "plt.colorbar(sm, ax=ax[0], label=\"Initial thickness, $h_0$ (mm)\")\n",
    "ax[0].plot([0, 200], [thres, thres], \"--\", color=\"gray\")\n",
    "ax[0].set_xlabel(\"Time (s)\")\n",
    "ax[0].set_ylabel(\"Dimple curvature, $\\\\kappa$ (m$^{-1}$)\")\n",
    "ax[0].set_xlim(0, 200)\n",
    "ax[0].set_ylim(0, .3)\n",
    "ax[1].plot(curvature_data[\"h\"]*1e3, t_list, \"o\")\n",
    "ax[1].set_xlabel(\"Initial thickness, $h_0$ (mm)\")\n",
    "ax[1].set_ylabel(\"Dimple time curvature, $t_\\mathrm{curv}$ (s)\")\n",
    "ax[1].set_xlim([0, 1])\n",
    "ax[1].set_ylim([0, 200])"
   ]
  },
  {
   "cell_type": "code",
   "execution_count": null,
   "metadata": {},
   "outputs": [
    {
     "name": "stdout",
     "output_type": "stream",
     "text": []
    },
    {
     "name": "stdout",
     "output_type": "stream",
     "text": []
    }
   ],
   "source": [
    "tdata = pd.DataFrame({\"h\":curvature_data[\"h\"], \"t\": t_list})\n",
    "# tdata = tdata.loc[tdata.h > 0.02]\n",
    "fig, ax = plt.subplots(figsize=(1.5, 1.5), dpi=300)\n",
    "ax.plot(tdata.h, tdata.t, \"o\", color=bestcolor(0))\n",
    "# remove tick labels\n",
    "ax.loglog()\n",
    "x = np.linspace(3e-4, 6e-4)\n",
    "y = 3e-16 * x**-5\n",
    "plt.plot(x, y, \"--\", color=\"black\")"
   ]
  },
  {
   "cell_type": "markdown",
   "metadata": {},
   "source": [
    "## 4 Ripple width\n",
    "\n",
    "We plot the dimple distance from the beet side wall as a function of time. "
   ]
  },
  {
   "cell_type": "code",
   "execution_count": null,
   "metadata": {},
   "outputs": [],
   "source": [
    "folder = r\"G:\\My Drive\\Research projects\\WPM\\Data\\11122024\\surface_profile\\dimple_detection\"\n",
    "dimple = pd.read_csv(os.path.join(folder, \"dimple_time.csv\"))"
   ]
  },
  {
   "cell_type": "code",
   "execution_count": null,
   "metadata": {},
   "outputs": [],
   "source": [
    "dimple = dimple.sort_values(\"h0ext\")\n",
    "dimple = dimple.iloc[[name.startswith(\"beet\") for name in dimple[\"name\"]]]\n",
    "dimple = dimple.reset_index(drop=True)\n",
    "hmax, hmin = .35, dimple.h0ext.min()"
   ]
  },
  {
   "cell_type": "code",
   "execution_count": null,
   "metadata": {},
   "outputs": [
    {
     "name": "stdout",
     "output_type": "stream",
     "text": []
    }
   ],
   "source": [
    "dimple.head()"
   ]
  },
  {
   "cell_type": "code",
   "execution_count": null,
   "metadata": {},
   "outputs": [],
   "source": [
    "dx = 0.0174 # mm"
   ]
  },
  {
   "cell_type": "code",
   "execution_count": null,
   "metadata": {},
   "outputs": [
    {
     "name": "stdout",
     "output_type": "stream",
     "text": []
    }
   ],
   "source": [
    "cmap = plt.get_cmap(\"plasma\")\n",
    "fig, ax = plt.subplots(1, 3, figsize=(7, 3), dpi=300, gridspec_kw={\"width_ratios\": [5, 5, .5]})\n",
    "mu = 0.01\n",
    "sigma =  42e-3\n",
    "for num, i in dimple[2::2].iterrows():\n",
    "    name = i[\"name\"]\n",
    "    fileDir = os.path.join(folder, f\"{name}_{i.h0:.3f}.csv\")\n",
    "    df = pd.read_csv(fileDir)[1:]\n",
    "    color = cmap((i.h0ext-hmin)/(hmax-hmin))\n",
    "    ax[0].scatter(df.t, df.minima_index*dx, marker=\"o\", color=color, label=name)\n",
    "    ax[1].scatter((sigma/mu*df.t*i.h0ext**3)**0.25, df.minima_index*dx, marker=\"o\", color=color, label=name)\n",
    "    if num > 20:\n",
    "        break\n",
    "ax[0].loglog()\n",
    "ax[1].loglog()\n",
    "# generate a colorbar\n",
    "sm = plt.cm.ScalarMappable(cmap=cmap, norm=plt.Normalize(vmin=hmin, vmax=hmax))\n",
    "sm.set_array([])\n",
    "plt.colorbar(sm, cax=ax[2], label=\"Initial film thickness, $h_0$ (mm)\")\n",
    "ax[0].set_xlabel(\"Time, $t$ (s)\")\n",
    "ax[0].set_ylabel(\"Distance, $\\lambda$ (mm)\")\n",
    "ax[1].set_xlabel(\"Rescaled time, $\\left( \\\\frac{\\sigma}{\\mu}h_0^3t \\\\right)^{1/4}$\")\n",
    "ax[1].sharey(ax[0])\n",
    "x = np.linspace(10, 30)\n",
    "y = 2.2 * x ** 0.25\n",
    "ax[0].plot(x, y, \"--\", color=\"black\")\n",
    "x = np.linspace(.9, 1.1)\n",
    "y = 4 * x \n",
    "ax[1].plot(x, y, \"--\", color=\"black\")\n",
    "plt.tight_layout()\n",
    "fig.savefig(\"distance_evolution.svg\")"
   ]
  },
  {
   "cell_type": "markdown",
   "metadata": {},
   "source": [
    "## 5 Growth rate\n",
    "\n",
    "The reviewers think the 0.5 threshold for height ratio we choose is arbitrary. To make the measurement of the time scale less prone to arbitrary choice of constants, we measure the growth rate of height ratio, by fitting it with an exponential function and extract a time scale."
   ]
  },
  {
   "cell_type": "markdown",
   "metadata": {},
   "source": [
    "### 5.1 Exponential function fit"
   ]
  },
  {
   "cell_type": "markdown",
   "metadata": {},
   "source": [
    "#### 5.1.1 Experimental data"
   ]
  },
  {
   "cell_type": "code",
   "execution_count": null,
   "metadata": {},
   "outputs": [],
   "source": [
    "from scipy.optimize import curve_fit\n",
    "\n",
    "def exp_func(t, a, b):\n",
    "    return a * (1 - np.exp(- t/b))"
   ]
  },
  {
   "cell_type": "code",
   "execution_count": null,
   "metadata": {},
   "outputs": [],
   "source": [
    "folder = r\"G:\\My Drive\\Research projects\\WPM\\Data\\11122024\\surface_profile\\dimple_detection\"\n",
    "dimple_time = pd.read_csv(os.path.join(folder, \"dimple_time.csv\"))"
   ]
  },
  {
   "cell_type": "code",
   "execution_count": null,
   "metadata": {},
   "outputs": [
    {
     "name": "stdout",
     "output_type": "stream",
     "text": []
    },
    {
     "name": "stdout",
     "output_type": "stream",
     "text": []
    },
    {
     "name": "stdout",
     "output_type": "stream",
     "text": []
    }
   ],
   "source": [
    "row = dimple_time.iloc[0]\n",
    "filename = f\"{row['name']}_{row.h0:.3f}.csv\"\n",
    "print(filename)\n",
    "df = pd.read_csv(os.path.join(folder, filename)).dropna()[1:]\n",
    "\n",
    "fig, ax = plt.subplots(figsize=(3.5, 3), dpi=100)\n",
    "ax.scatter(df.t, df.minima/df.maxima)\n",
    "popt, pcov = curve_fit(exp_func, df.t+1, df.minima / df.maxima, p0=(1, 30))\n",
    "ax.plot(df.t, exp_func(df.t, *popt), 'r--', label='fit: a=%5.3f, b=%5.3f' % tuple(popt))\n",
    "residuals = df.minima / df.maxima - exp_func(df.t, *popt)\n",
    "ss_res = np.sum(residuals**2)\n",
    "ss_tot = np.sum(((df.minima / df.maxima) - np.mean(df.minima / df.maxima))**2)\n",
    "r2 = 1 - (ss_res / ss_tot)\n",
    "plt.text(0.1, 0.1, f'$R^2$ = {r2:.3f}', transform=plt.gca().transAxes)\n",
    "plt.legend()\n",
    "plt.xlabel(\"Time (s)\")\n",
    "plt.ylabel(\"Height ratio, $h_{\\mathrm{min}}/h_{\\mathrm{max}}$\")"
   ]
  },
  {
   "cell_type": "markdown",
   "metadata": {},
   "source": [
    "#### 5.1.2 Simulation data"
   ]
  },
  {
   "cell_type": "code",
   "execution_count": null,
   "metadata": {},
   "outputs": [],
   "source": [
    "folder = r\"G:\\My Drive\\Research projects\\WPM\\Data\\Simulation\\beet-redo\\dimple_detection\"\n",
    "dimple_time = pd.read_csv(os.path.join(folder, \"dimple_time.csv\"))\n",
    "l = readdata(folder, \"csv\")"
   ]
  },
  {
   "cell_type": "code",
   "execution_count": null,
   "metadata": {},
   "outputs": [
    {
     "name": "stdout",
     "output_type": "stream",
     "text": []
    }
   ],
   "source": [
    "# fit all the simulation data with exponential function for a growth time\n",
    "for num, i in dimple_time.iterrows():\n",
    "    filename = f\"mu_{i.mu:.2e}_sigma_{i.sigma:.2e}_h0_{i.h0:.2e}_L_{i.L:.2e}.csv\"\n",
    "    df = pd.read_csv(os.path.join(folder, filename)).dropna()[50:]\n",
    "    try:\n",
    "        popt, pcov = curve_fit(exp_func, df.t, df.minima / df.maxima, p0=(1, 30))\n",
    "    except:\n",
    "        continue\n",
    "    \n",
    "    residuals = df.minima / df.maxima - exp_func(df.t, *popt)\n",
    "    ss_res = np.sum(residuals**2)\n",
    "    ss_tot = np.sum(((df.minima / df.maxima) - np.mean(df.minima / df.maxima))**2)\n",
    "    r2 = 1 - (ss_res / ss_tot)\n",
    "    if r2 < 0.9:\n",
    "        continue\n",
    "    dimple_time.loc[num, \"tau_growth\"] = popt[1]"
   ]
  },
  {
   "cell_type": "code",
   "execution_count": null,
   "metadata": {},
   "outputs": [],
   "source": [
    "dimple_time.to_csv(os.path.join(folder, \"dimple_time.csv\"), index=False)"
   ]
  },
  {
   "cell_type": "markdown",
   "metadata": {},
   "source": [
    "### 5.2 Compare fit with threshold"
   ]
  },
  {
   "cell_type": "code",
   "execution_count": null,
   "metadata": {},
   "outputs": [],
   "source": [
    "folder = r\"G:\\My Drive\\Research projects\\WPM\\Data\\11122024\\surface_profile\\dimple_detection\"\n",
    "dimple_time = pd.read_csv(os.path.join(folder, \"dimple_time.csv\"))"
   ]
  },
  {
   "cell_type": "code",
   "execution_count": null,
   "metadata": {},
   "outputs": [
    {
     "name": "stdout",
     "output_type": "stream",
     "text": []
    }
   ],
   "source": [
    "fig, ax = plt.subplots(figsize=(3.5, 3), dpi=300)\n",
    "ax.scatter(dimple_time.t, dimple_time.tau_growth, c=dimple_time.h0ext, cmap=\"plasma\")\n",
    "fig.colorbar(ax.collections[0], ax=ax, label=\"Initial film thickness, $h_0$ (mm)\")\n",
    "# outliers\n",
    "# outliers = dimple_time.loc[abs(dimple_time.tau_growth - dimple_time.t) > 4]\n",
    "# plt.scatter(outliers.t, outliers.tau_growth, s=100, facecolor=(0,0,0,0), edgecolor=\"r\")\n",
    "ax.plot([0, 30], [0, 30], \"--\", color=\"black\", zorder=-5)\n",
    "ax.set_xlim([0, 30])\n",
    "ax.set_ylim([0, 30])\n",
    "ax.set_xlabel(\"Dimple time, $t_\\mathrm{dimple}$ (s)\")\n",
    "ax.set_ylabel(\"Growth time, $t_\\mathrm{growth}$ (s)\")\n",
    "plt.tight_layout()\n",
    "fig.savefig(\"compare_dimpletime.svg\")"
   ]
  },
  {
   "cell_type": "markdown",
   "metadata": {},
   "source": [
    "The two definition actually agree with each other quite well, except for those surfaces where the ratio never reaches 0.5. If we restrict our scope in $t_\\mathrm{dimple}<30$, the agreement is good. "
   ]
  },
  {
   "cell_type": "markdown",
   "metadata": {},
   "source": [
    "### 5.3 Fig.5c with fit data"
   ]
  },
  {
   "cell_type": "code",
   "execution_count": null,
   "metadata": {},
   "outputs": [
    {
     "name": "stdout",
     "output_type": "stream",
     "text": []
    },
    {
     "name": "stdout",
     "output_type": "stream",
     "text": []
    }
   ],
   "source": [
    "# read dimple data\n",
    "initial_thickness = [.33, .3, .21]\n",
    "folder = r\"OSF\\fig5\"\n",
    "markers = [\"o\", \"s\", \"v\", \"^\"]\n",
    "fig, ax = plt.subplots(figsize=(3.5,3), dpi=300)\n",
    "cmap = plt.get_cmap(\"tab10\")\n",
    "for i, h0 in enumerate(initial_thickness):\n",
    "    dimple = pd.read_csv(os.path.join(folder, f\"h0={h0:.2f}_sim_dimple.csv\"))[0::25]\n",
    "    ax.scatter(dimple[\"t\"], dimple[\"minima\"] / dimple[\"maxima\"], \n",
    "                lw=0.5, marker=markers[i], s=10,\n",
    "                facecolor=(0,0,0,0), edgecolor=cmap(i), \n",
    "                label=\"{:.2f}\".format(initial_thickness[i]))\n",
    "for i, h0 in enumerate(initial_thickness):\n",
    "    dimple_exp = pd.read_csv(os.path.join(folder, f\"h0={h0:.2f}_exp_dimple.csv\"))\n",
    "    if h0 == 0.3:\n",
    "        dimple_exp = dimple_exp[1:]\n",
    "    if h0 == 0.21:\n",
    "        dimple_exp = dimple_exp[2:]\n",
    "    ax.scatter(dimple_exp[\"t\"], dimple_exp[\"minima\"] / dimple_exp[\"maxima\"], \n",
    "                marker=markers[i], s=15, lw=0.5,\n",
    "                facecolor=cmap(i), edgecolor=\"black\", \n",
    "                label=\"{:.2f}\".format(initial_thickness[i]))\n",
    "    if h0 == 0.33:\n",
    "        dimple_exp.loc[3:, [\"minima\", \"maxima\"]] = 1\n",
    "   \n",
    "    \n",
    "    # fit the data\n",
    "    popt, pcov = curve_fit(exp_func, dimple_exp.t, dimple_exp.minima / dimple_exp.maxima, p0=(1, 30))\n",
    "    ax.plot(dimple_exp.t, exp_func(dimple_exp.t, *popt), 'r--')\n",
    "    print(h0, popt[1])\n",
    "ax.legend(frameon=False, fontsize=8, loc=\"upper right\", title=\"Initial thickness, $h_0$ (mm)\", ncol=2, title_fontsize=8)\n",
    "ax.set_xlabel(\"Time, $t$ (s)\")\n",
    "ax.set_ylabel(\"Height ratio, $h_\\mathrm{min}/h_\\mathrm{max}$\")\n",
    "ax.set_xlim([0, 100])\n",
    "ax.set_ylim([0, 1])\n",
    "# plot a line at y = 0.5\n",
    "ax.axhline(0.5, color=\"gray\", ls=\"--\", lw=1, zorder=-10)\n",
    "plt.tight_layout()\n",
    "fig.savefig(\"growth_rate.svg\")"
   ]
  },
  {
   "cell_type": "markdown",
   "metadata": {},
   "source": [
    "### 5.4 Fig.5d with fit data"
   ]
  },
  {
   "cell_type": "code",
   "execution_count": null,
   "metadata": {},
   "outputs": [
    {
     "name": "stdout",
     "output_type": "stream",
     "text": []
    }
   ],
   "source": [
    "# simulation data\n",
    "folder = r\"G:\\My Drive\\Research projects\\WPM\\Data\\Simulation\\L24\\dimple_detection\"\n",
    "dimple_time = pd.read_csv(os.path.join(folder, \"dimple_time.csv\"))\n",
    "# filter out the data where dimple time is not accurately detected\n",
    "dimple_time = dimple_time.loc[(dimple_time[\"t\"] < 200)&(dimple_time[\"h0\"] > 10e-5)]\n",
    "dimple_time.sort_values(\"mu\", inplace=True)\n",
    "\n",
    "liquids = [\"beet\", \"gw60\", \"gw80\"]\n",
    "cmap = plt.get_cmap(\"tab10\")\n",
    "colors = [cmap(i) for i in [1, 8, 9]]\n",
    "markers = [\"s\", \"p\", \"d\"]\n",
    "cm_map = pd.DataFrame({\"color\": colors, \"marker\": markers}, index=liquids)\n",
    "\n",
    "fig, ax = plt.subplots(figsize=(3.5, 3), dpi=300)\n",
    "for liquid, i in cm_map.iterrows():\n",
    "    g = dimple_time.loc[dimple_time[\"liquid\"] == liquid]\n",
    "    ax.scatter(g[\"h0\"]*1e3, g[\"tau_growth\"], \n",
    "               s=10, lw=.5, marker=i.marker, facecolor=(0,0,0,0), \n",
    "               edgecolor=i.color, label=f\"{liquid}\")\n",
    "ax.loglog()\n",
    "\n",
    "ax.set_xlabel(\"Initial thickness, $h_0$ (mm)\")\n",
    "ax.set_ylabel(\"Growth time, $t_\\mathrm{growth}$ (s)\")\n",
    "\n",
    "ax.set_xlim([0.2, .6])\n",
    "ax.set_ylim([.8, 200])\n",
    "ax.legend(frameon=False, fontsize=8, loc=\"upper right\", ncol=1)\n",
    "\n",
    "# experimental data\n",
    "folder = r\"G:\\My Drive\\Research projects\\WPM\\Data\\11122024\\surface_profile\\dimple_detection\"\n",
    "dimple_exp1 = pd.read_csv(os.path.join(folder, \"dimple_time.csv\"))\n",
    "folder = r\"G:\\My Drive\\Research projects\\WPM\\Data\\11122024\\surface_profile\\dimple_detection\"\n",
    "dimple_exp2 = pd.read_csv(os.path.join(folder, \"dimple_time.csv\"))\n",
    "dimple_exp = pd.concat([dimple_exp1, dimple_exp2], ignore_index=True)\n",
    "dimple_exp = dimple_exp.loc[dimple_exp[\"t\"] < 100]\n",
    "liquids = dimple_exp[\"liquid\"].unique()\n",
    "for liquid, i in cm_map.iterrows():\n",
    "    g = dimple_exp.loc[dimple_exp[\"liquid\"] == liquid]\n",
    "    ax.scatter(g[\"h0ext\"], g[\"tau_growth\"], \n",
    "               s=15, lw=.5, marker=i.marker, \n",
    "               facecolor=i.color, edgecolor=\"black\", label=f\"{liquid}\")\n",
    "plt.tight_layout()\n",
    "fig.savefig(\"growth_time_exp_sim.svg\")"
   ]
  },
  {
   "cell_type": "code",
   "execution_count": null,
   "metadata": {},
   "outputs": [
    {
     "name": "stdout",
     "output_type": "stream",
     "text": []
    }
   ],
   "source": [
    "# compare simulated dimple time and growth time\n",
    "# simulation data\n",
    "folder = r\"G:\\My Drive\\Research projects\\WPM\\Data\\Simulation\\L24\\dimple_detection\"\n",
    "dimple_time = pd.read_csv(os.path.join(folder, \"dimple_time.csv\"))\n",
    "# filter out the data where dimple time is not accurately detected\n",
    "dimple_time = dimple_time.loc[(dimple_time[\"t\"] < 200)&(dimple_time[\"h0\"] > 25e-5)]\n",
    "dimple_time.sort_values(\"mu\", inplace=True)\n",
    "\n",
    "liquids = [\"beet\", \"gw60\", \"gw80\"]\n",
    "cmap = plt.get_cmap(\"tab10\")\n",
    "colors = [cmap(i) for i in [1, 8, 9]]\n",
    "markers = [\"s\", \"p\", \"d\"]\n",
    "cm_map = pd.DataFrame({\"color\": colors, \"marker\": markers}, index=liquids)\n",
    "\n",
    "fig, ax = plt.subplots(figsize=(3.5, 3), dpi=300)\n",
    "for liquid, i in cm_map.iterrows():\n",
    "    g = dimple_time.loc[dimple_time[\"liquid\"] == liquid]\n",
    "    ax.scatter(g[\"h0\"]*1e3, g[\"t\"], \\\n",
    "               s=10, lw=.5, marker=i.marker, facecolor=(0,0,0,0), \\\n",
    "               edgecolor=i.color, label=f\"{liquid}\" + \" $t_\\mathrm{dimple}$\")\n",
    "for liquid, i in cm_map.iterrows():\n",
    "    g = dimple_time.loc[dimple_time[\"liquid\"] == liquid]           \n",
    "    ax.scatter(g[\"h0\"]*1e3, g[\"tau_growth\"], \\\n",
    "               s=10, lw=.5, marker=i.marker, facecolor=i.color, \\\n",
    "               edgecolor=i.color, label=f\"{liquid}\" + \" $t_\\mathrm{growth}$\")\n",
    "ax.loglog()\n",
    "\n",
    "ax.set_xlabel(\"Initial thickness, $h_0$ (mm)\")\n",
    "ax.set_ylabel(\"Time scales (s)\")\n",
    "\n",
    "ax.set_xlim([0.2, .6])\n",
    "ax.set_ylim([.8, 200])\n",
    "ax.legend(frameon=False, fontsize=8, loc=\"lower left\", ncol=1)\n",
    "plt.tight_layout()\n",
    "fig.savefig(\"compare_sim_dimple_growth.svg\")"
   ]
  },
  {
   "cell_type": "markdown",
   "metadata": {},
   "source": [
    "## 6 With / without the correction factor of curvature"
   ]
  },
  {
   "cell_type": "code",
   "execution_count": null,
   "metadata": {},
   "outputs": [],
   "source": [
    "folder = r\"G:\\My Drive\\Research projects\\WPM\\Data\\Simulation\\prefactor\"\n",
    "w = pd.read_csv(os.path.join(folder, \"w.csv\")).set_index(\"x\")\n",
    "wo = pd.read_csv(os.path.join(folder, \"wo.csv\")).set_index(\"x\")"
   ]
  },
  {
   "cell_type": "code",
   "execution_count": null,
   "metadata": {},
   "outputs": [
    {
     "name": "stdout",
     "output_type": "stream",
     "text": []
    },
    {
     "name": "stdout",
     "output_type": "stream",
     "text": []
    }
   ],
   "source": [
    "fig, ax = plt.subplots(1, 2, figsize=(7, 3), dpi=300, sharey=True, sharex=True, gridspec_kw={'wspace': 0.1})\n",
    "down_sample = 80\n",
    "cmap = plt.get_cmap(\"viridis\")\n",
    "tmax = float(w.columns[-1])\n",
    "n_curves = w.shape[1]\n",
    "for i in range(2, n_curves-1, down_sample):\n",
    "    # read surface profile data for smoothing purpose\n",
    "    x, y = w.index, w.iloc[:, i].values\n",
    "    ax[0].plot(x, y, color=cmap(i/n_curves), lw=2)\n",
    "    x, y = wo.index, wo.iloc[:, i].values\n",
    "    ax[1].plot(x, y, color=cmap(i/n_curves), lw=2)\n",
    "\n",
    "\n",
    "ax[0].set_xlim([0, 20])\n",
    "ax[0].set_ylim([0, 0.4])\n",
    "ax[0].set_xlabel(\"Distance, $x$ (mm)\")\n",
    "ax[0].set_ylabel(\"Surface height, $h$ (mm)\")\n",
    "ax[1].set_xlabel(\"Distance, $x$ (mm)\")\n",
    "\n",
    "ax[0].set_title(\"w/ prefactor\")\n",
    "ax[1].set_title(\"w/o prefactor\")\n",
    "# # add a colorbar\n",
    "sm = plt.cm.ScalarMappable(cmap=cmap, norm=plt.Normalize(vmin=0, vmax=100))\n",
    "plt.colorbar(sm, ax=ax, label=\"Time (s)\")\n",
    "plt.tight_layout()\n",
    "fig.savefig(\"prefactor.svg\")"
   ]
  },
  {
   "cell_type": "markdown",
   "metadata": {},
   "source": [
    "## 7 Collapse with new scaling \n",
    "\n",
    "It turns out that in our experimental parameter regime (primarily due to the film length $L=24$ mm), the dimple time is determined by the balance between gravity and surface tension. This gives a scaling relation based on gravity and viscous drag, which reads\n",
    "\n",
    "$$\n",
    "\\tau = \\frac{\\mu L^2}{\\rho g}\\left( \\frac{1}{h_0} \\right)^3\n",
    "$$"
   ]
  },
  {
   "cell_type": "code",
   "execution_count": 3,
   "metadata": {},
   "outputs": [
    {
     "data": {
      "image/png": "[encoded data removed]",
      "text/plain": [
       "<Figure size 750x750 with 1 Axes>"
      ]
     },
     "metadata": {},
     "output_type": "display_data"
    }
   ],
   "source": [
    "folder = os.path.join(base_folder, \"Research projects\", \"WPM\", \"Data\")\n",
    "dimple_time = pd.read_csv(os.path.join(folder, \"dimple_time.csv\"))\n",
    "# filter out the data where dimple time is not accurately detected\n",
    "dimple_time = dimple_time.loc[(dimple_time[\"t\"] < 200)&(dimple_time[\"h0\"] > 25e-5)]\n",
    "dimple_time.sort_values(\"mu\", inplace=True)\n",
    "fig, ax = plt.subplots(figsize=(2.5, 2.5), dpi=300)\n",
    "\n",
    "liquids = [\"water\", \"beet\", \"vinegar\", \"gw20\", \"gw40\", \"gw60\", \"gw80\"]\n",
    "cmap = plt.get_cmap(\"tab10\", len(liquids))\n",
    "colors = [cmap(i) for i in range(len(liquids))]\n",
    "markers = [\"o\", \"s\", \"v\", \"^\", \"*\", \"p\", \"d\"]\n",
    "viscosity_list = [1e-3, 10e-3, 15e-3, 1.7e-3, 3.6e-3, 10.5e-3, 58e-3]\n",
    "st_list = [72e-3, 72e-3, 72e-3, 68e-3, 66e-3, 64e-3, 62e-3]\n",
    "cm_map = pd.DataFrame({\"mu\": viscosity_list, \n",
    "                       \"sigma\": st_list, \n",
    "                       \"color\": colors,\n",
    "                       \"marker\": markers}, index=liquids)\n",
    "\n",
    "for liquid, i in cm_map.iterrows():\n",
    "    if liquid in [\"water\", \"vinegar\", \"gw20\", \"gw40\"]:\n",
    "        continue\n",
    "    g = dimple_time.loc[dimple_time[\"liquid\"] == liquid]\n",
    "    tau = i[\"mu\"] * g[\"L\"]**2 / g[\"h0\"]**3 / 1e3 / 10 \n",
    "    ax.scatter(g[\"h0\"]*1e3, g[\"t\"]/tau, \n",
    "                s=5, lw=.5, marker=i.marker, facecolor=(0,0,0,0), \n",
    "                edgecolor=i.color, label=f\"{liquid}\")\n",
    "ax.loglog()\n",
    "\n",
    "ax.set_xlabel(\"$h_0$ (mm)\")\n",
    "ax.set_ylabel(\"$t_{\\mathrm{dimple}}/\\\\tau$ (s)\")\n",
    "\n",
    "# ax.set_xlim([0.2, .8])\n",
    "# ax.set_ylim([2, 1000])\n",
    "# ax.legend(frameon=False, fontsize=8, loc=\"upper right\", ncol=1)\n",
    "\n",
    "# experimental data\n",
    "# dimple_exp = pd.read_csv(r\"G:\\My Drive\\Research projects\\WPM\\Data\\dimple_time_height_experiment.csv\")\n",
    "# dimple_exp = dimple_exp.loc[(dimple_exp[\"t\"] < 100)&(dimple_exp[\"L\"]>18)]\n",
    "# liquids = dimple_exp[\"liquid\"].unique()\n",
    "# for liquid, i in cm_map.iterrows():\n",
    "#     if liquid in [\"water\", \"vinegar\", \"gw20\", \"gw40\"]:\n",
    "#         continue\n",
    "#     g = dimple_exp.loc[dimple_exp[\"liquid\"] == liquid]\n",
    "#     tau = (g[\"L\"]*1e-3)**2/ i[\"sigma\"]**-3 * i[\"mu\"] / (g[\"h0ext\"]*1e-3)**7\n",
    "#     ax.scatter(g[\"h0ext\"], g[\"t\"]/tau, \n",
    "#                s=4, lw=.5, marker=i.marker, \n",
    "#                facecolor=i.color, edgecolor=\"black\", label=f\"{liquid}\")\n",
    "\n",
    "# Draw a line to eye-ball the power law\n",
    "# x = np.linspace(0.25, 0.3, 100)\n",
    "# y = x**-7 / 200\n",
    "# plt.plot(x, y, color=\"black\", ls=\"-\", lw=.5)\n",
    "# savefig\n",
    "plt.tight_layout()\n",
    "fig.savefig(\"dimple_time_collapse.svg\")"
   ]
  },
  {
   "cell_type": "code",
   "execution_count": 4,
   "metadata": {},
   "outputs": [],
   "source": [
    "g = dimple_time.loc[dimple_time[\"liquid\"] == \"beet\"]\n",
    "tau = 1.5*g[\"mu\"] * g[\"L\"]**2 / g[\"h0\"]**3 / 1e3 / 10 \n",
    "L = 5e-3\n",
    "h = 0.1e-3\n",
    "tau2 = g[\"mu\"] * L**4 / g[\"sigma\"] / h**3"
   ]
  },
  {
   "cell_type": "code",
   "execution_count": 7,
   "metadata": {},
   "outputs": [
    {
     "data": {
      "text/plain": [
       "Text(0, 0.5, 'Dimple time, $t_\\\\mathrm{dimple}$ (s)')"
      ]
     },
     "execution_count": 7,
     "metadata": {},
     "output_type": "execute_result"
    },
    {
     "data": {
      "image/png": "[encoded data removed]",
      "text/plain": [
       "<Figure size 1050x900 with 1 Axes>"
      ]
     },
     "metadata": {},
     "output_type": "display_data"
    }
   ],
   "source": [
    "fig, ax = plt.subplots(figsize=(3.5, 3), dpi=300)\n",
    "ax.plot(g[\"h0\"]*1e3, g[\"t\"], \"o\", label=\"$t_\\mathrm{dimple}$\")\n",
    "ax.plot(g[\"h0\"]*1e3, tau, \"o\", label=\"$\\mu L^2/\\\\rho g h_0^3$\")\n",
    "# plt.plot(g[\"h0\"]*1e3, tau2, \"o\")\n",
    "ax.legend()\n",
    "ax.set_xlabel(\"Initial thickness, $h_0$ (mm)\")\n",
    "ax.set_ylabel(\"Dimple time, $t_\\mathrm{dimple}$ (s)\")"
   ]
  },
  {
   "cell_type": "markdown",
   "metadata": {},
   "source": [
    "## 8 Initial conditions\n",
    "\n",
    "The rise of the contact line and the viscous drag at the dimple together govern the initial conditions of the dimples. Here let's examine these initial conditions in depth. \n",
    "\n",
    "### 8.1 When would a dimple reach the largest curvature?\n",
    "\n",
    "If we start to evolve a dimple from a flat surface, we will see an initial rapid increase, followed by a slow decrease of the curvature at the dimple. What's the time scale of the initial increase? Do all the dimples reach the largest curvature at the same time? To answer this, we plot the time of the largest curvature, as functions of film geometries. "
   ]
  },
  {
   "cell_type": "markdown",
   "metadata": {},
   "source": [
    "#### 8.1.1 Length"
   ]
  },
  {
   "cell_type": "code",
   "execution_count": null,
   "metadata": {},
   "outputs": [],
   "source": [
    "folder = os.path.join(base_folder, \"Research projects\", \"WPM\", \"Data\", \"Simulation\", \"parameters\", \"length\", \"dimple_detection\")"
   ]
  },
  {
   "cell_type": "code",
   "execution_count": 1,
   "metadata": {},
   "outputs": [
    {
     "ename": "NameError",
     "evalue": "name 'readdata' is not defined",
     "output_type": "error",
     "traceback": [
      "\u001b[0;31m---------------------------------------------------------------------------\u001b[0m",
      "\u001b[0;31mNameError\u001b[0m                                 Traceback (most recent call last)",
      "Cell \u001b[0;32mIn[1], line 2\u001b[0m\n\u001b[1;32m      1\u001b[0m \u001b[38;5;66;03m# prepare length data\u001b[39;00m\n\u001b[0;32m----> 2\u001b[0m l \u001b[38;5;241m=\u001b[39m \u001b[43mreaddata\u001b[49m(folder, \u001b[38;5;124m\"\u001b[39m\u001b[38;5;124mcsv\u001b[39m\u001b[38;5;124m\"\u001b[39m)\n\u001b[1;32m      3\u001b[0m df \u001b[38;5;241m=\u001b[39m pd\u001b[38;5;241m.\u001b[39mread_csv(l\u001b[38;5;241m.\u001b[39mDir[\u001b[38;5;241m1\u001b[39m])\n\u001b[1;32m      4\u001b[0m curvature_data \u001b[38;5;241m=\u001b[39m {}\n",
      "\u001b[0;31mNameError\u001b[0m: name 'readdata' is not defined"
     ]
    }
   ],
   "source": [
    "# prepare length data\n",
    "l = readdata(folder, \"csv\")\n",
    "df = pd.read_csv(l.Dir[1])\n",
    "curvature_data = {}\n",
    "curvature_data[\"t\"] = df[\"t\"].values\n",
    "h_list = []\n",
    "curvature_list = []\n",
    "for num, i in l.iterrows():\n",
    "    if i.Name == \"dimple_time\":\n",
    "        continue\n",
    "    df = pd.read_csv(i.Dir)\n",
    "    nameparts = i.Name.split(\"_\")\n",
    "    h = float(nameparts[7])\n",
    "    h_list.append(h)\n",
    "    curvature = df[\"curvature_minima\"].values\n",
    "    curvature_list.append(curvature)\n",
    "curvature_data[\"h\"] = np.array(h_list)\n",
    "curvature_data[\"curvature\"] = np.stack(curvature_list, axis=0)"
   ]
  },
  {
   "cell_type": "code",
   "execution_count": null,
   "metadata": {},
   "outputs": [],
   "source": [
    "# find the time of the highest curvature\n",
    "t_list = []\n",
    "# fig, ax = plt.subplots(1, 2, figsize=(7, 3), dpi=300, gridspec_kw={'wspace': 0.4})\n",
    "for h, curvature in zip(curvature_data[\"h\"], curvature_data[\"curvature\"]):\n",
    "    x, y = xy_bin(curvature_data[\"t\"], curvature, mode=\"lin\")\n",
    "    color = cmap((h-hmin)/(hmax-hmin))\n",
    "    t_max = x[np.argmax(np.abs(y))]\n",
    "    t_list.append(t_max)"
   ]
  },
  {
   "cell_type": "code",
   "execution_count": null,
   "metadata": {},
   "outputs": [
    {
     "data": {},
     "execution_count": 151,
     "metadata": {},
     "output_type": "execute_result"
    },
    {
     "data": {},
     "metadata": {},
     "output_type": "display_data"
    }
   ],
   "source": [
    "fig, ax = plt.subplots(figsize=(3.5, 3), dpi=300)\n",
    "ax.plot(curvature_data[\"h\"]*1e3, t_list, \"o\")\n",
    "ax.set_xlabel(\"Film length, $L$ (mm)\")\n",
    "ax.set_ylabel(\"Max dimple curvature time, $t_\\mathrm{maxcurv}$ (s)\")\n",
    "ax.set_xlim([0, 100])\n",
    "ax.set_ylim([0, 3.5])"
   ]
  },
  {
   "cell_type": "markdown",
   "metadata": {},
   "source": [
    "In short film, max dimple curvature is reached faster. In long film, the time it takes to reach max dimple curvature is a constant. This constant is around 3 seconds. Can we predict this? This is close to the time scale of the contact line reaching the equilibrium contact angle when not constrained. "
   ]
  },
  {
   "cell_type": "markdown",
   "metadata": {},
   "source": [
    "#### 8.1.2 Initial thickness"
   ]
  },
  {
   "cell_type": "code",
   "execution_count": null,
   "metadata": {},
   "outputs": [],
   "source": [
    "folder = os.path.join(base_folder, \"Research projects\", \"WPM\", \"Data\", \"Simulation\", \"parameters\", \"h0_more\", \"dimple_detection\")"
   ]
  },
  {
   "cell_type": "code",
   "execution_count": null,
   "metadata": {},
   "outputs": [],
   "source": [
    "# prepare length data\n",
    "l = readdata(folder, \"csv\")\n",
    "df = pd.read_csv(l.Dir[1])\n",
    "curvature_data = {}\n",
    "curvature_data[\"t\"] = df[\"t\"].values\n",
    "h_list = []\n",
    "curvature_list = []\n",
    "for num, i in l.iterrows():\n",
    "    if i.Name == \"dimple_time\":\n",
    "        continue\n",
    "    df = pd.read_csv(i.Dir)\n",
    "    nameparts = i.Name.split(\"_\")\n",
    "    h = float(nameparts[5])\n",
    "    \n",
    "    curvature = df[\"curvature_minima\"].values\n",
    "    if len(curvature) == 2000:\n",
    "        h_list.append(h)\n",
    "        curvature_list.append(curvature)\n",
    "curvature_data[\"h\"] = np.array(h_list)\n",
    "curvature_data[\"curvature\"] = np.stack(curvature_list, axis=0)"
   ]
  },
  {
   "cell_type": "code",
   "execution_count": null,
   "metadata": {},
   "outputs": [],
   "source": [
    "# find the time of the highest curvature\n",
    "t_list = []\n",
    "# fig, ax = plt.subplots(1, 2, figsize=(7, 3), dpi=300, gridspec_kw={'wspace': 0.4})\n",
    "for h, curvature in zip(curvature_data[\"h\"], curvature_data[\"curvature\"]):\n",
    "    x, y = xy_bin(curvature_data[\"t\"], curvature, mode=\"lin\")\n",
    "    color = cmap((h-hmin)/(hmax-hmin))\n",
    "    t_max = x[np.argmax(np.abs(y))]\n",
    "    t_list.append(t_max)"
   ]
  },
  {
   "cell_type": "code",
   "execution_count": null,
   "metadata": {},
   "outputs": [
    {
     "data": {},
     "execution_count": 146,
     "metadata": {},
     "output_type": "execute_result"
    },
    {
     "data": {},
     "metadata": {},
     "output_type": "display_data"
    }
   ],
   "source": [
    "fig, ax = plt.subplots(figsize=(3.5, 3), dpi=300)\n",
    "ax.plot(curvature_data[\"h\"]*1e3, t_list, \"o\")\n",
    "ax.set_xlabel(\"Initial thickness, $h_0$ (mm)\")\n",
    "ax.set_ylabel(\"Max dimple curvature time, $t_\\mathrm{maxcurv}$ (s)\")\n",
    "ax.set_xlim([0, 1])\n",
    "ax.set_ylim([0, 3.5])"
   ]
  },
  {
   "cell_type": "markdown",
   "metadata": {},
   "source": [
    "### 8.2 What's the magnitude of the largest curvature?"
   ]
  },
  {
   "cell_type": "markdown",
   "metadata": {},
   "source": [
    "#### 8.2.1 Length"
   ]
  },
  {
   "cell_type": "code",
   "execution_count": null,
   "metadata": {},
   "outputs": [],
   "source": [
    "folder = os.path.join(base_folder, \"Research projects\", \"WPM\", \"Data\", \"Simulation\", \"parameters\", \"length\", \"dimple_detection\")"
   ]
  },
  {
   "cell_type": "code",
   "execution_count": null,
   "metadata": {},
   "outputs": [],
   "source": [
    "# prepare length data\n",
    "l = readdata(folder, \"csv\")\n",
    "df = pd.read_csv(l.Dir[1])\n",
    "curvature_data = {}\n",
    "curvature_data[\"t\"] = df[\"t\"].values\n",
    "h_list = []\n",
    "curvature_list = []\n",
    "for num, i in l.iterrows():\n",
    "    if i.Name == \"dimple_time\":\n",
    "        continue\n",
    "    df = pd.read_csv(i.Dir)\n",
    "    nameparts = i.Name.split(\"_\")\n",
    "    h = float(nameparts[7])\n",
    "    h_list.append(h)\n",
    "    curvature = df[\"curvature_minima\"].values\n",
    "    curvature_list.append(curvature)\n",
    "curvature_data[\"h\"] = np.array(h_list)\n",
    "curvature_data[\"curvature\"] = np.stack(curvature_list, axis=0)"
   ]
  },
  {
   "cell_type": "code",
   "execution_count": null,
   "metadata": {},
   "outputs": [],
   "source": [
    "# find the time of the highest curvature\n",
    "k_list = []\n",
    "# fig, ax = plt.subplots(1, 2, figsize=(7, 3), dpi=300, gridspec_kw={'wspace': 0.4})\n",
    "for h, curvature in zip(curvature_data[\"h\"], curvature_data[\"curvature\"]):\n",
    "    x, y = xy_bin(curvature_data[\"t\"], curvature, mode=\"lin\")\n",
    "    k_max = np.max(np.abs(y))\n",
    "    k_list.append(k_max)"
   ]
  },
  {
   "cell_type": "code",
   "execution_count": null,
   "metadata": {},
   "outputs": [
    {
     "data": {},
     "execution_count": 189,
     "metadata": {},
     "output_type": "execute_result"
    },
    {
     "data": {},
     "metadata": {},
     "output_type": "display_data"
    }
   ],
   "source": [
    "fig, ax = plt.subplots(figsize=(3.5, 3), dpi=300)\n",
    "ax.plot(curvature_data[\"h\"]*1e3, k_list, \"o\")\n",
    "ax.set_xlabel(\"Film length, $L$ (mm)\")\n",
    "ax.set_ylabel(\"Max dimple curvature, $\\kappa_\\mathrm{max}$ (m$^{-1}$)\")\n",
    "# ax.set_xlim([0, 100])\n",
    "# ax.set_ylim([0, 3.5])"
   ]
  },
  {
   "cell_type": "code",
   "execution_count": null,
   "metadata": {},
   "outputs": [
    {
     "data": {},
     "execution_count": 182,
     "metadata": {},
     "output_type": "execute_result"
    }
   ],
   "source": [
    "L = .2\n",
    "max(500, int(1000 * L / 0.2))"
   ]
  },
  {
   "cell_type": "markdown",
   "metadata": {},
   "source": [
    "#### 8.2.2 Initial thickness"
   ]
  },
  {
   "cell_type": "code",
   "execution_count": null,
   "metadata": {},
   "outputs": [],
   "source": [
    "folder = os.path.join(base_folder, \"Research projects\", \"WPM\", \"Data\", \"Simulation\", \"parameters\", \"h0_more\", \"dimple_detection\")"
   ]
  },
  {
   "cell_type": "code",
   "execution_count": null,
   "metadata": {},
   "outputs": [],
   "source": [
    "# prepare length data\n",
    "l = readdata(folder, \"csv\")\n",
    "df = pd.read_csv(l.Dir[1])\n",
    "curvature_data = {}\n",
    "curvature_data[\"t\"] = df[\"t\"].values\n",
    "h_list = []\n",
    "curvature_list = []\n",
    "for num, i in l.iterrows():\n",
    "    if i.Name == \"dimple_time\":\n",
    "        continue\n",
    "    df = pd.read_csv(i.Dir)\n",
    "    nameparts = i.Name.split(\"_\")\n",
    "    h = float(nameparts[5])\n",
    "    \n",
    "    curvature = df[\"curvature_minima\"].values\n",
    "    if len(curvature) == 2000:\n",
    "        h_list.append(h)\n",
    "        curvature_list.append(curvature)\n",
    "curvature_data[\"h\"] = np.array(h_list)\n",
    "curvature_data[\"curvature\"] = np.stack(curvature_list, axis=0)"
   ]
  },
  {
   "cell_type": "code",
   "execution_count": null,
   "metadata": {},
   "outputs": [],
   "source": [
    "# find the time of the highest curvature\n",
    "k_list = []\n",
    "# fig, ax = plt.subplots(1, 2, figsize=(7, 3), dpi=300, gridspec_kw={'wspace': 0.4})\n",
    "for h, curvature in zip(curvature_data[\"h\"], curvature_data[\"curvature\"]):\n",
    "    x, y = xy_bin(curvature_data[\"t\"], curvature, mode=\"lin\")\n",
    "    k_max = y[np.argmax(np.abs(y))]\n",
    "    k_list.append(k_max)"
   ]
  },
  {
   "cell_type": "code",
   "execution_count": null,
   "metadata": {},
   "outputs": [
    {
     "data": {},
     "execution_count": 178,
     "metadata": {},
     "output_type": "execute_result"
    },
    {
     "data": {},
     "metadata": {},
     "output_type": "display_data"
    }
   ],
   "source": [
    "fig, ax = plt.subplots(figsize=(3.5, 3), dpi=300)\n",
    "ax.plot(curvature_data[\"h\"]*1e3, k_list, \"o\")\n",
    "ax.set_xlabel(\"Initial thickness, $h_0$ (mm)\")\n",
    "ax.set_ylabel(\"Max dimple curvature, $\\kappa_\\mathrm{max}$ (m$^{-1}$)\")\n",
    "# ax.set_xlim([0, 1])\n",
    "# ax.set_ylim([0.05, 0.1])\n",
    "ax.loglog()\n",
    "x = np.linspace(.2, .4)\n",
    "y = 4e-3 * x**-3\n",
    "ax.plot(x, y, \"--\", color=\"black\", lw=1)"
   ]
  },
  {
   "cell_type": "markdown",
   "metadata": {},
   "source": [
    "## 9 Dimple length scale $l_d$\n",
    "\n",
    "We observe from simulation data that the pressure gradient is not uniform over the whole liquid film. Instead, the most gradient is localized to the vicinity of the dimple. We define this vicinity width as the dimple length scale $l_d$. Here, we take a few examples and plot $l_d$ over time. "
   ]
  },
  {
   "cell_type": "code",
   "execution_count": null,
   "metadata": {},
   "outputs": [],
   "source": [
    "folder = os.path.join(base_folder, \"Research projects\", \"WPM\", \"Data\", \"Simulation\", \"parameters\", \"length\")"
   ]
  },
  {
   "cell_type": "code",
   "execution_count": null,
   "metadata": {},
   "outputs": [],
   "source": [
    "l = readdata(folder, \"csv\")\n",
    "df = pd.read_csv(l.Dir[0]).set_index(\"x\")"
   ]
  },
  {
   "cell_type": "code",
   "execution_count": null,
   "metadata": {},
   "outputs": [],
   "source": [
    "def YL_equation(h, x, sigma):\n",
    "    # Young-Laplace equation\n",
    "    dx = (x[2:] - x[:-2]) / 2\n",
    "    dh = (h[2:] - h[:-2]) / dx / 2\n",
    "    d2h = (h[2:] - 2 * h[1:-1] + h[:-2]) / dx**2\n",
    "    p = np.zeros_like(h)\n",
    "    p[1:-1] = - sigma * (1 + dh**2)**(-3/2) * d2h + rho * g * h[1:-1]*1e-3\n",
    "    p[0] = p[1] \n",
    "    p[-1] = p[-2] \n",
    "\n",
    "    return p"
   ]
  },
  {
   "cell_type": "code",
   "execution_count": null,
   "metadata": {},
   "outputs": [],
   "source": [
    "sigma = 42e-3\n",
    "rho = 1e3\n",
    "g = 9.8"
   ]
  },
  {
   "cell_type": "code",
   "execution_count": null,
   "metadata": {},
   "outputs": [],
   "source": [
    "x = df.index.values\n",
    "h = df.iloc[:, 1].values\n",
    "p = YL_equation(h, x, sigma)"
   ]
  },
  {
   "cell_type": "code",
   "execution_count": null,
   "metadata": {},
   "outputs": [
    {
     "data": {},
     "metadata": {},
     "output_type": "display_data"
    }
   ],
   "source": [
    "for i in range(0, df.shape[1], 10):\n",
    "    h = df.iloc[:, i].values\n",
    "    p = YL_equation(h, x, sigma)\n",
    "    plt.plot(x, p)\n",
    "    plt.ylim(0, 30)\n",
    "    plt.pause(.01)\n",
    "    \n",
    "    clear_output(wait=True)"
   ]
  },
  {
   "cell_type": "markdown",
   "metadata": {},
   "source": [
    "## 10 Pressure contribution at dimple time\n",
    "\n",
    "I argued that depending on the geometry, dimple time can be a result of different dominating force. Here, I check this hypothesis by plotting the pressure composition at the dimple, at dimple time. "
   ]
  },
  {
   "cell_type": "code",
   "execution_count": null,
   "metadata": {},
   "outputs": [],
   "source": [
    "folder = os.path.join(base_folder, \"Research projects\", \"WPM\", \"Data\", \"Simulation\", \"parameters\", \"h0_more\", \"dimple_detection\")"
   ]
  },
  {
   "cell_type": "code",
   "execution_count": null,
   "metadata": {},
   "outputs": [],
   "source": [
    "l = readdata(folder, \"csv\")\n",
    "dimple = pd.read_csv(os.path.join(folder, \"dimple_time.csv\"))"
   ]
  },
  {
   "cell_type": "code",
   "execution_count": null,
   "metadata": {},
   "outputs": [
    {
     "name": "stdout",
     "output_type": "stream",
     "text": []
    }
   ],
   "source": [
    "g_list = []\n",
    "k_list = []\n",
    "h_list = []\n",
    "for num, i in dimple.iterrows():\n",
    "    name = f\"mu_{i.mu:.2e}_sigma_{i.sigma:.2e}_h0_{i.h0:.2e}_L_{i.L:.2e}.csv\"\n",
    "    df = pd.read_csv(os.path.join(folder, name))\n",
    "    try:\n",
    "        df = df.loc[np.argmin(np.abs(df.t-i.t))]\n",
    "        gravity = rho * g * (df.maxima-df.minima) * 1e-3\n",
    "        curvature = sigma * df.curvature_minima * 1e3\n",
    "        g_list.append(gravity)\n",
    "        k_list.append(curvature)\n",
    "        h_list.append(i.h0)\n",
    "    except:\n",
    "        pass"
   ]
  },
  {
   "cell_type": "code",
   "execution_count": null,
   "metadata": {},
   "outputs": [
    {
     "data": {},
     "execution_count": 110,
     "metadata": {},
     "output_type": "execute_result"
    },
    {
     "data": {},
     "metadata": {},
     "output_type": "display_data"
    }
   ],
   "source": [
    "fig, ax = plt.subplots(figsize=(3.5, 3), dpi=300)\n",
    "ax.plot(np.array(h_list)*1e3, g_list, \"o\", label=\"gravity pressure\")\n",
    "ax.plot(np.array(h_list)*1e3, k_list, \"o\", label=\"curvature pressure\")\n",
    "ax.set_xlabel(\"Initial thickness, $h_0$ (mm)\")\n",
    "ax.set_ylabel(\"Pressure (Pa)\")\n",
    "# ax.set_xlim([0, 100])\n",
    "ax.set_ylim([0, 3])\n",
    "ax.set_title(\"Pressure contributions at $t_\\mathrm{dimple}$\")\n",
    "ax.legend()"
   ]
  },
  {
   "cell_type": "code",
   "execution_count": null,
   "metadata": {},
   "outputs": [
    {
     "data": {},
     "execution_count": 115,
     "metadata": {},
     "output_type": "execute_result"
    }
   ],
   "source": [
    "mu = 1e-2\n",
    "L = 24e-3\n",
    "h0 = 0.5e-3\n",
    "tau = mu*L**2 / rho / g / h0**3\n",
    "tau"
   ]
  },
  {
   "cell_type": "code",
   "execution_count": null,
   "metadata": {},
   "outputs": [
    {
     "data": {},
     "execution_count": 84,
     "metadata": {},
     "output_type": "execute_result"
    }
   ],
   "source": [
    "i.t"
   ]
  },
  {
   "cell_type": "code",
   "execution_count": null,
   "metadata": {},
   "outputs": [
    {
     "data": {},
     "execution_count": 83,
     "metadata": {},
     "output_type": "execute_result"
    }
   ],
   "source": [
    "df.t"
   ]
  },
  {
   "cell_type": "code",
   "execution_count": null,
   "metadata": {},
   "outputs": [
    {
     "data": {},
     "execution_count": 75,
     "metadata": {},
     "output_type": "execute_result"
    }
   ],
   "source": [
    "np.argmin(df.t-i.t)"
   ]
  },
  {
   "cell_type": "code",
   "execution_count": null,
   "metadata": {},
   "outputs": [
    {
     "data": {},
     "execution_count": 74,
     "metadata": {},
     "output_type": "execute_result"
    }
   ],
   "source": [
    "df.loc[np.argmin(df.t-i.t)]"
   ]
  }
 ],
 "metadata": {
  "kernelspec": {
   "display_name": "py39",
   "language": "python",
   "name": "python3"
  },
  "language_info": {
   "codemirror_mode": {
    "name": "ipython",
    "version": 3
   },
   "file_extension": ".py",
   "mimetype": "text/x-python",
   "name": "python",
   "nbconvert_exporter": "python",
   "pygments_lexer": "ipython3",
   "version": "3.9.21"
  }
 },
 "nbformat": 4,
 "nbformat_minor": 2
}
