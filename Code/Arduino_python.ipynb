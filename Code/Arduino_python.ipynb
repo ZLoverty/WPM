{
 "cells": [
  {
   "cell_type": "markdown",
   "metadata": {},
   "source": [
    "# Arduino Python\n",
    "\n",
    "In this notebook, I try to read sensor data through Arduino with Python."
   ]
  },
  {
   "cell_type": "code",
   "execution_count": 1,
   "metadata": {},
   "outputs": [],
   "source": [
    "from serial.tools import list_ports\n",
    "import serial\n",
    "import time\n",
    "import matplotlib.pyplot as plt"
   ]
  },
  {
   "cell_type": "code",
   "execution_count": 2,
   "metadata": {},
   "outputs": [
    {
     "name": "stdout",
     "output_type": "stream",
     "text": [
      "COM3 - Intel(R) Active Management Technology - SOL (COM3)\n",
      "COM4 - Arduino Uno (COM4)\n"
     ]
    }
   ],
   "source": [
    "ports = list_ports.comports()\n",
    "for port in ports: print(port)"
   ]
  },
  {
   "cell_type": "code",
   "execution_count": 3,
   "metadata": {},
   "outputs": [],
   "source": [
    "serialCom = serial.Serial(\"COM4\", 9600)"
   ]
  },
  {
   "cell_type": "code",
   "execution_count": 4,
   "metadata": {},
   "outputs": [],
   "source": [
    "# Reset arduino\n",
    "serialCom.setDTR(False)\n",
    "time.sleep(1)\n",
    "serialCom.flushInput()\n",
    "serialCom.setDTR(True)"
   ]
  },
  {
   "cell_type": "code",
   "execution_count": 12,
   "metadata": {},
   "outputs": [
    {
     "name": "stdout",
     "output_type": "stream",
     "text": [
      "0.166373610\n",
      "0.028253995\n",
      "-0.110402214\n",
      "-0.246932291\n",
      "-0.378713941\n",
      "-0.503194904\n",
      "-0.617991209\n",
      "-0.720879507\n",
      "-0.809889411\n",
      "-0.883297061\n",
      "-0.939696598\n",
      "-0.977995777\n",
      "-0.997460460\n",
      "-0.997715282\n",
      "-0.978755378\n",
      "-0.940943908\n",
      "-0.885013008\n",
      "-0.812034034\n",
      "-0.723420238\n",
      "-0.620868682\n",
      "-0.506365680\n",
      "-0.382110862\n",
      "-0.250489926\n",
      "-0.114052069\n",
      "0.024589858\n",
      "0.162750649\n",
      "0.297784442\n",
      "0.427075910\n",
      "0.548149061\n",
      "0.658658933\n",
      "0.756484222\n",
      "0.839745140\n",
      "0.906829071\n",
      "0.956451416\n",
      "0.987650966\n",
      "0.999830150\n",
      "0.992753410\n",
      "0.966556072\n",
      "0.921745395\n",
      "0.859183597\n",
      "0.780070781\n",
      "0.685939073\n",
      "0.578591156\n",
      "0.460106182\n",
      "0.332753205\n",
      "0.198998794\n",
      "0.061404399\n",
      "-0.077365045\n",
      "-0.214644598\n",
      "-0.347797608\n",
      "-0.474245262\n",
      "-0.591565895\n",
      "-0.697487354\n",
      "-0.789981174\n",
      "-0.867255878\n",
      "-0.927831554\n",
      "-0.970535278\n",
      "-0.994548034\n",
      "-0.999407577\n",
      "-0.985019302\n",
      "-0.951659107\n",
      "-0.899972915\n",
      "-0.830950641\n",
      "-0.745929193\n",
      "-0.646536540\n",
      "-0.534697914\n",
      "-0.412561941\n",
      "-0.282473449\n",
      "-0.146951971\n",
      "-0.008592862\n",
      "0.129924190\n",
      "0.265946507\n",
      "0.396839618\n",
      "0.520096778\n",
      "0.633330821\n",
      "0.734368133\n",
      "0.821267127\n",
      "0.892344856\n",
      "0.946240043\n",
      "0.981908893\n",
      "0.998668384\n",
      "0.996193885\n",
      "0.974532890\n",
      "0.934104633\n",
      "0.875687217\n",
      "0.800401210\n",
      "0.709704494\n",
      "0.605334186\n",
      "0.489311504\n",
      "0.363858461\n",
      "0.231404829\n",
      "0.094487199\n",
      "-0.044242677\n",
      "-0.182120552\n",
      "-0.316498303\n",
      "-0.444773387\n",
      "-0.564489269\n",
      "-0.673327207\n",
      "-0.769202995\n",
      "-0.850259685\n"
     ]
    }
   ],
   "source": [
    "for k in range(100):\n",
    "    try:\n",
    "        s_bytes = serialCom.readline()\n",
    "        decoded_bytes = s_bytes.decode(\"utf-8\").strip(\"\\r\\n\")\n",
    "        print(decoded_bytes)\n",
    "    except:\n",
    "        pass"
   ]
  },
  {
   "cell_type": "code",
   "execution_count": 13,
   "metadata": {},
   "outputs": [
    {
     "data": {
      "text/plain": [
       "'-0.850259685'"
      ]
     },
     "execution_count": 13,
     "metadata": {},
     "output_type": "execute_result"
    }
   ],
   "source": [
    "decoded_bytes"
   ]
  }
 ],
 "metadata": {
  "kernelspec": {
   "display_name": "py39",
   "language": "python",
   "name": "python3"
  },
  "language_info": {
   "codemirror_mode": {
    "name": "ipython",
    "version": 3
   },
   "file_extension": ".py",
   "mimetype": "text/x-python",
   "name": "python",
   "nbconvert_exporter": "python",
   "pygments_lexer": "ipython3",
   "version": "3.9.17"
  }
 },
 "nbformat": 4,
 "nbformat_minor": 2
}
