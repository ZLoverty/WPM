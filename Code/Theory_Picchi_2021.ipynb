{
 "cells": [
  {
   "cell_type": "markdown",
   "metadata": {},
   "source": [
    "# Theory Picchi 2021\n",
    "\n",
    "In this notebook, I reproduce the Theory in *Motion of a confined bubble in a shear-thinning liquid*, by D. Picchi, published in JFM in 2021. \n",
    "\n",
    "https://www.cambridge.org/core/journals/journal-of-fluid-mechanics/article/motion-of-a-confined-bubble-in-a-shearthinning-liquid/47C8A583F6E080925C7D6A63347D6AB9"
   ]
  },
  {
   "attachments": {
    "image-2.png": {
     "image/png": "[encoded data removed]"
    }
   },
   "cell_type": "markdown",
   "metadata": {},
   "source": [
    "## 1 Define the problem\n",
    "\n",
    "Before deriving the final equation from scratch, I want to first start with the numerical solution part, by solving\n",
    "\n",
    "$$\n",
    "\\frac{d^3\\eta}{d\\xi^3} = \\frac{\\eta - 1}{\\eta^3}, \\tag{1}\n",
    "$$\n",
    "\n",
    "which describes the surface profile of a thin film created by fluid flow, between an air bubble and a solid wall. The thin film surface profile will be like the following schematic. This theoretical model could be useful for understanding the fringe pattern near pickled beet root.\n",
    "\n",
    "![image-2.png](attachment:image-2.png)"
   ]
  },
  {
   "cell_type": "markdown",
   "metadata": {},
   "source": [
    "The front and rear profiles are obtained by solving Eqn.1, to different directions using different boundary conditions. In the following, we will solve for front and rear profiles separately."
   ]
  },
  {
   "cell_type": "markdown",
   "metadata": {},
   "source": [
    "## 2 Front profile\n",
    "\n",
    "The boundary condition for front"
   ]
  }
 ],
 "metadata": {
  "kernelspec": {
   "display_name": "Python 3",
   "language": "python",
   "name": "python3"
  },
  "language_info": {
   "name": "python",
   "version": "3.9.19"
  }
 },
 "nbformat": 4,
 "nbformat_minor": 2
}
