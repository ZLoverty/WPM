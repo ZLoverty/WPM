{
 "cells": [
  {
   "cell_type": "markdown",
   "metadata": {},
   "source": [
    "# Capillary theory\n",
    "\n",
    "I propose a theory to explain whether we observe dimple or not in a thin liquid film. The core idea is the dimple is unstable because surface tension always has a tendency to smooth it out. To observe it, the surface tension induced flow has to be sufficiently small, so that the dimple stays longer. \n",
    "\n",
    "The dimple formation around a beet slice has two steps:\n",
    "\n",
    "1. Initial dimple formation due to the suction flow of the beet slice;\n",
    "2. The smooth-out due to the surface tension induced flow. \n",
    "\n",
    "In this notebook, I will model these two steps based on the physical picture depicted above. A simple numerical solution will be presented."
   ]
  }
 ],
 "metadata": {
  "kernelspec": {
   "display_name": "Python 3",
   "language": "python",
   "name": "python3"
  },
  "language_info": {
   "codemirror_mode": {
    "name": "ipython",
    "version": 3
   },
   "file_extension": ".py",
   "mimetype": "text/x-python",
   "name": "python",
   "nbconvert_exporter": "python",
   "pygments_lexer": "ipython3",
   "version": "3.9.19"
  }
 },
 "nbformat": 4,
 "nbformat_minor": 2
}
